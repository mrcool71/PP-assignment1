{
  "nbformat": 4,
  "nbformat_minor": 0,
  "metadata": {
    "colab": {
      "provenance": [],
      "include_colab_link": true
    },
    "kernelspec": {
      "name": "python3",
      "display_name": "Python 3"
    },
    "language_info": {
      "name": "python"
    }
  },
  "cells": [
    {
      "cell_type": "markdown",
      "metadata": {
        "id": "view-in-github",
        "colab_type": "text"
      },
      "source": [
        "<a href=\"https://colab.research.google.com/github/mrcool71/PP-assignment1/blob/main/PP_Assignment_1.ipynb\" target=\"_parent\"><img src=\"https://colab.research.google.com/assets/colab-badge.svg\" alt=\"Open In Colab\"/></a>"
      ]
    },
    {
      "cell_type": "markdown",
      "source": [
        "                                          Path Planning Assignment 1\n",
        "Hello Guys, This is the assignment I want you guys to solve. This will help you guys to understand the basics of python and allow you guys to impelement some of the things that you have learnt up until now.For this assignment , I want you to complete the functions needed to solve the problem given. To properly complete the assignment, USE THE INPUTS GIVEN IN THE EXAMPLE.If you are finding some difficulty solving any one of these problems , please feel free to contact one of us"
      ],
      "metadata": {
        "id": "m4_Ig_EQyB1r"
      }
    },
    {
      "cell_type": "markdown",
      "source": [
        "Q1) Given an array of integers nums and an integer target, return indices of the two numbers such that they add up to target.\n",
        "You may assume that each input would have exactly one solution, and you may not use the same element twice.\n",
        "You can return the answer in any order.\n",
        "\n",
        "Example :\n",
        "\n",
        "Input: nums = [2,7,11,15], target = 9\n",
        "Output: [0,1]\n",
        "Explanation: Because nums[0] + nums[1] == 9, we return [0, 1]."
      ],
      "metadata": {
        "id": "zkjgH-tmyXkt"
      }
    },
    {
      "cell_type": "code",
      "execution_count": 1,
      "metadata": {
        "id": "BozbO_hWx3wJ",
        "colab": {
          "base_uri": "https://localhost:8080/"
        },
        "outputId": "1743521f-111c-445f-cc01-31d50b01b8cc"
      },
      "outputs": [
        {
          "output_type": "stream",
          "name": "stdout",
          "text": [
            "Enter value for n:5\n",
            "Enter element:1\n",
            "Enter element:2\n",
            "Enter element:3\n",
            "Enter element:4\n",
            "Enter element:5\n",
            "Enter the sum6\n",
            "[0, 4]\n"
          ]
        }
      ],
      "source": [
        "def two_sum(list_1,target):\n",
        "    for i in range (len(list_1)):\n",
        "        remainder=target -list_1[i]\n",
        "        if remainder in list_1:\n",
        "            index_1=list_1.index(remainder)\n",
        "            ans_list=[i,index_1]\n",
        "            print (ans_list)\n",
        "            break\n",
        "listsss=[]\n",
        "n=int(input(\"Enter value for n:\"))\n",
        "for j in range(n):\n",
        "    element=int(input(\"Enter element:\"))\n",
        "    listsss.append(element)\n",
        "\n",
        "val=int(input(\"Enter the sum\"))\n",
        " \n",
        "\n",
        "two_sum(listsss,target=val)  \n"
      ]
    },
    {
      "cell_type": "markdown",
      "source": [
        "Q2) Implement pow(x, n), which calculates x raised to the power n (i.e., xn).\n",
        "\n",
        "Example :\n",
        "\n",
        "Input: x = 2.00000, n = 10\n",
        "Output: 1024.00000"
      ],
      "metadata": {
        "id": "WXPNSBGaylvH"
      }
    },
    {
      "cell_type": "code",
      "source": [
        "def powers(base,power):\n",
        "    print (base**power)\n",
        "\n",
        "n_1=int(input(\"Enter the base\"))\n",
        "n_2=int(input(\"Enter the power\"))    \n",
        "powers(n_1,n_2)"
      ],
      "metadata": {
        "id": "JU-IyV82y1ME",
        "colab": {
          "base_uri": "https://localhost:8080/"
        },
        "outputId": "7b3b7713-ed6f-4dfe-96e0-a8925eeeb1d3"
      },
      "execution_count": 2,
      "outputs": [
        {
          "output_type": "stream",
          "name": "stdout",
          "text": [
            "Enter the base3\n",
            "Enter the power2\n",
            "9\n"
          ]
        }
      ]
    },
    {
      "cell_type": "markdown",
      "source": [
        "Q3) You are given a large integer represented as an integer, where each digits[i] is the ith digit of the integer. The digits are ordered from most significant to least significant in left-to-right order. The large integer does not contain any leading 0's.\n",
        "\n",
        "Increment the large integer by one and return the resulting array of digits.\n",
        "\n",
        "Example :\n",
        "\n",
        "Input: number  = 123 \n",
        "Output: [1,2,4]\n",
        "Explanation: The array represents the integer 123.\n",
        "Incrementing by one gives 123 + 1 = 124.\n",
        "Thus, the result should be [1,2,4]"
      ],
      "metadata": {
        "id": "GmtBxLgGy_pU"
      }
    },
    {
      "cell_type": "code",
      "source": [
        "def increment(number):\n",
        "    number+=1\n",
        "    ans_array=[]\n",
        "    while (number!=0):\n",
        "        r=number%10\n",
        "        number=number//10\n",
        "        ans_array.insert(0,r)\n",
        "    print (ans_array)   \n",
        "\n",
        "num=int(input(\"Enter the number\")) \n",
        "increment(num)\n"
      ],
      "metadata": {
        "id": "svlf0F3IzFFk",
        "colab": {
          "base_uri": "https://localhost:8080/"
        },
        "outputId": "8217282e-3f02-43d8-d32f-38a6369e9f3a"
      },
      "execution_count": 3,
      "outputs": [
        {
          "output_type": "stream",
          "name": "stdout",
          "text": [
            "Enter the number115\n",
            "[1, 1, 6]\n"
          ]
        }
      ]
    },
    {
      "cell_type": "markdown",
      "source": [
        "Q4) You are given an array prices where prices[i] is the price of a given stock on the ith day.\n",
        "You want to maximize your profit by choosing a single day to buy one stock and choosing a different day in the future to sell that stock.\n",
        "Return the maximum profit you can achieve from this transaction. If you cannot achieve any profit, return 0.\n",
        "\n",
        "Example :\n",
        "\n",
        "Input: prices = [7,1,5,3,6,4]\n",
        "Output: 5\n",
        "Explanation: Buy on day 2 (price = 1) and sell on day 5 (price = 6), profit = 6-1 = 5.\n",
        "Note that buying on day 2 and selling on day 1 is not allowed because you must buy before you sell."
      ],
      "metadata": {
        "id": "UKx7-lrVzLFT"
      }
    },
    {
      "cell_type": "code",
      "source": [
        "def max_profit(prices):\n",
        "    maximum= prices[1]-prices[0]\n",
        "    for index in range(len(prices)):\n",
        "        for i in range (index+1,len(prices)):\n",
        "            maximum=max(prices[i]-prices[index], maximum)\n",
        "    if maximum>0:       \n",
        "     print (maximum) \n",
        "    else: \n",
        "     print ('0') \n",
        "\n",
        "arrays=[]\n",
        "n=int(input(\"Enter the number of elements in array\"))\n",
        "for i in range (n):\n",
        " val=int(input(\"Enter the prices of stocks\"))\n",
        " arrays.append(val)\n",
        "\n",
        "max_profit(arrays)\n"
      ],
      "metadata": {
        "id": "rhfw0atozJsQ",
        "colab": {
          "base_uri": "https://localhost:8080/"
        },
        "outputId": "fba80e0b-d865-4ec3-f37c-4d8a1cb2bfed"
      },
      "execution_count": 4,
      "outputs": [
        {
          "output_type": "stream",
          "name": "stdout",
          "text": [
            "Enter the number of elements in array3\n",
            "Enter the prices of stocks7\n",
            "Enter the prices of stocks6\n",
            "Enter the prices of stocks5\n",
            "0\n"
          ]
        }
      ]
    },
    {
      "cell_type": "markdown",
      "source": [
        "Q5) Given an string x, return true if x is a \n",
        "palindrome, and false otherwise.\n",
        "\n",
        "Example :\n",
        "\n",
        "Input: x = 121\n",
        "Output: true\n",
        "Explanation: 121 reads as 121 from left to right and from right to left.\n"
      ],
      "metadata": {
        "id": "X6K-pIeJzmil"
      }
    },
    {
      "cell_type": "code",
      "source": [
        "def palindrome(num):\n",
        "    number=int(num)\n",
        "    num=number\n",
        "    reversed_number =0\n",
        "    while (num!=0):\n",
        "        r=num%10\n",
        "        num=num//10\n",
        "        reversed_number=reversed_number*10+r\n",
        "    if (reversed_number==number):\n",
        "        print (\"True\")\n",
        "    else :\n",
        "        print (\"False\")\n",
        "\n",
        "given_string=str(input(\"Enter the string\"))\n",
        "palindrome(given_string)\n",
        "\n",
        "\n"
      ],
      "metadata": {
        "id": "fYhVnOLb0bos",
        "colab": {
          "base_uri": "https://localhost:8080/"
        },
        "outputId": "b6cd96b8-6834-469f-a49f-f7a43430792f"
      },
      "execution_count": 6,
      "outputs": [
        {
          "output_type": "stream",
          "name": "stdout",
          "text": [
            "Enter the string325467\n",
            "False\n"
          ]
        }
      ]
    }
  ]
}